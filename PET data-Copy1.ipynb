{
 "cells": [
  {
   "cell_type": "code",
   "execution_count": null,
   "id": "793287c94bf3ec8f",
   "metadata": {
    "collapsed": false,
    "jupyter": {
     "outputs_hidden": false
    }
   },
   "outputs": [],
   "source": [
    "import numpy as np\n",
    "import pandas as pd\n",
    "import matplotlib.pyplot as plt\n",
    "import seaborn as sns\n",
    "import time\n",
    "import json\n",
    "import plotly.graph_objects as go\n",
    "\n",
    "from sklearn.preprocessing import StandardScaler"
   ]
  },
  {
   "cell_type": "code",
   "execution_count": null,
   "id": "5dc8aced935c102",
   "metadata": {
    "collapsed": false,
    "jupyter": {
     "outputs_hidden": false
    }
   },
   "outputs": [],
   "source": [
    "energy_data = pd.read_csv('/home/nissatech/Documents/Double Machine Learning/Raw Data/energy_data.csv')"
   ]
  },
  {
   "cell_type": "code",
   "execution_count": null,
   "id": "f54857d64a4b7a0b",
   "metadata": {
    "collapsed": false,
    "jupyter": {
     "outputs_hidden": false
    }
   },
   "outputs": [],
   "source": [
    "env_data = pd.read_csv('/home/nissatech/Documents/Double Machine Learning/Raw Data/environment_data.csv')"
   ]
  },
  {
   "cell_type": "markdown",
   "id": "30ed334bb2a79b48",
   "metadata": {},
   "source": [
    "<h1>1 Exploratory data analysis</h1>"
   ]
  },
  {
   "cell_type": "markdown",
   "id": "3e9c02ce27a1e534",
   "metadata": {},
   "source": [
    "<h2>1.1 Environment data </h2>"
   ]
  },
  {
   "cell_type": "code",
   "execution_count": null,
   "id": "b8b8760b827d9d0c",
   "metadata": {
    "collapsed": false,
    "jupyter": {
     "outputs_hidden": false
    }
   },
   "outputs": [],
   "source": [
    "env_data.head()"
   ]
  },
  {
   "cell_type": "code",
   "execution_count": null,
   "id": "78c123a0-e628-4a83-a96c-ade3b4aa0fb2",
   "metadata": {},
   "outputs": [],
   "source": [
    "env_data.columns"
   ]
  },
  {
   "cell_type": "markdown",
   "id": "d8a948d2fdb60364",
   "metadata": {},
   "source": [
    "<h3>1.1.1 Environment data indexing</h3>"
   ]
  },
  {
   "cell_type": "code",
   "execution_count": null,
   "id": "25573cec6f03c659",
   "metadata": {
    "collapsed": false,
    "jupyter": {
     "outputs_hidden": false
    }
   },
   "outputs": [],
   "source": [
    "df_indexed_env_data = env_data.copy()\n",
    "df_indexed_env_data['timestamp'] = pd.to_datetime(df_indexed_env_data['timestamp'])\n",
    "df_indexed_env_data.index = df_indexed_env_data['timestamp']\n",
    "del df_indexed_env_data['timestamp']"
   ]
  },
  {
   "cell_type": "markdown",
   "id": "1864d1991c73fdb7",
   "metadata": {},
   "source": [
    "<h3>1.1.2 Environment data visualization</h3>"
   ]
  },
  {
   "cell_type": "code",
   "execution_count": null,
   "id": "cd0a8dd619a43eff",
   "metadata": {
    "collapsed": false,
    "jupyter": {
     "outputs_hidden": false
    },
    "scrolled": true,
    "tags": []
   },
   "outputs": [],
   "source": [
    "for column in df_indexed_env_data.columns:\n",
    "    df_indexed_env_data[column].plot(figsize = (14, 8), title = column)\n",
    "    plt.show()"
   ]
  },
  {
   "cell_type": "markdown",
   "id": "6295eb3a9231f4c8",
   "metadata": {},
   "source": [
    "<h2>1.2 Energy data</h2>"
   ]
  },
  {
   "cell_type": "code",
   "execution_count": null,
   "id": "99eeed3edac39b26",
   "metadata": {
    "collapsed": false,
    "jupyter": {
     "outputs_hidden": false
    }
   },
   "outputs": [],
   "source": [
    "energy_data.shape"
   ]
  },
  {
   "cell_type": "code",
   "execution_count": null,
   "id": "aec4570ceb3fed64",
   "metadata": {
    "collapsed": false,
    "jupyter": {
     "outputs_hidden": false
    }
   },
   "outputs": [],
   "source": [
    "energy_data.head()"
   ]
  },
  {
   "cell_type": "markdown",
   "id": "f4c46e7ab5c6a7b5",
   "metadata": {},
   "source": [
    "<h3>1.2.1 Energy data indexing</h3>"
   ]
  },
  {
   "cell_type": "code",
   "execution_count": null,
   "id": "e536ba900ce57140",
   "metadata": {
    "collapsed": false,
    "jupyter": {
     "outputs_hidden": false
    }
   },
   "outputs": [],
   "source": [
    "df_indexed_energy_data = energy_data.copy()\n",
    "df_indexed_energy_data['timestamp'] = pd.to_datetime(df_indexed_energy_data['timestamp'])\n",
    "df_indexed_energy_data.index = df_indexed_energy_data['timestamp']\n",
    "del df_indexed_energy_data['timestamp']"
   ]
  },
  {
   "cell_type": "markdown",
   "id": "a263eb52c224ccd6",
   "metadata": {},
   "source": [
    "<h3> 1.2.2 Energy data visualization </h3>"
   ]
  },
  {
   "cell_type": "code",
   "execution_count": null,
   "id": "ebb7f85453f3c4c4",
   "metadata": {
    "collapsed": false,
    "jupyter": {
     "outputs_hidden": false
    },
    "scrolled": true,
    "tags": []
   },
   "outputs": [],
   "source": [
    "for column in df_indexed_energy_data.columns:\n",
    "    df_indexed_energy_data[column].plot(figsize = (14, 8), title = column)\n",
    "    plt.show()"
   ]
  },
  {
   "cell_type": "markdown",
   "id": "c59ef37b6154e3a3",
   "metadata": {},
   "source": [
    "<h1>2 Data preprocessing</h1>"
   ]
  },
  {
   "cell_type": "markdown",
   "id": "cff7f8c36039c091",
   "metadata": {},
   "source": [
    "<h2>2.1 Energy data</h2>"
   ]
  },
  {
   "cell_type": "markdown",
   "id": "81f65adb1251edb9",
   "metadata": {},
   "source": [
    "<h3>2.1.1 Checking for NaN values in energy data</h3>"
   ]
  },
  {
   "cell_type": "code",
   "execution_count": null,
   "id": "c9dca15d8418d50b",
   "metadata": {
    "collapsed": false,
    "jupyter": {
     "outputs_hidden": false
    }
   },
   "outputs": [],
   "source": [
    "df_indexed_energy_data.isna().any().any()"
   ]
  },
  {
   "cell_type": "markdown",
   "id": "b2f7bfc7daec19f1",
   "metadata": {},
   "source": [
    "<h3>2.1.2 Removing highly correlated attributes in energy data</h3>"
   ]
  },
  {
   "cell_type": "code",
   "execution_count": null,
   "id": "d604e54447eb5a88",
   "metadata": {
    "collapsed": false,
    "jupyter": {
     "outputs_hidden": false
    }
   },
   "outputs": [],
   "source": [
    "corr_matrix = df_indexed_energy_data.corr()"
   ]
  },
  {
   "cell_type": "code",
   "execution_count": null,
   "id": "5046420ce29ebad1",
   "metadata": {
    "collapsed": false,
    "jupyter": {
     "outputs_hidden": false
    }
   },
   "outputs": [],
   "source": [
    "# Create a larger figure\n",
    "fig, ax = plt.subplots(figsize=(14,12))\n",
    "\n",
    "# Plot the correlation matrix as a heatmap\n",
    "sns.heatmap(corr_matrix,\n",
    "            cmap='coolwarm',\n",
    "            annot=True,\n",
    "            ax=ax,\n",
    "            annot_kws={\"fontsize\":8},\n",
    "            xticklabels=corr_matrix.columns,\n",
    "            yticklabels=corr_matrix.columns)\n",
    "\n",
    "# Set the font size of the x and y axis tick labels\n",
    "ax.tick_params(axis='x', labelsize=8)\n",
    "ax.tick_params(axis='y', labelsize=8)\n",
    "\n",
    "plt.show()"
   ]
  },
  {
   "cell_type": "code",
   "execution_count": null,
   "id": "78446584efd4dd80",
   "metadata": {
    "collapsed": false,
    "jupyter": {
     "outputs_hidden": false
    }
   },
   "outputs": [],
   "source": [
    "columns_to_drop = ['Active Power A average [kW]','Active Power B average [kW]', 'Active Power C average [kW]', \n",
    "                   'Current B average [A]', 'Current C average [A]',\n",
    "                   'Reactive Power A average [kVAr]','Reactive Power B average [kVAr]', 'Reactive Power C average [kVAr]', \n",
    "                   'THDI A average [%]', 'THDI B average [%]', 'THDI C average [%]',\n",
    "                   'THDU B average [%]', 'THDU C average [%]',\n",
    "                   'Power Factor A average', 'Power Factor B average', 'Power Factor C average',\n",
    "                   'Voltage B average [V]',\n",
    "                  ]\n",
    "df_energy_data_without_high_correlated = df_indexed_energy_data.drop(columns_to_drop, axis = 1)"
   ]
  },
  {
   "cell_type": "code",
   "execution_count": null,
   "id": "a105da719a947def",
   "metadata": {
    "collapsed": false,
    "jupyter": {
     "outputs_hidden": false
    }
   },
   "outputs": [],
   "source": [
    "# Calculate the correlation matrix\n",
    "corr_matrix = df_energy_data_without_high_correlated.corr()\n",
    "\n",
    "# Create a larger figure\n",
    "fig, ax = plt.subplots(figsize=(14,12))\n",
    "\n",
    "# Plot the correlation matrix as a heatmap\n",
    "sns.heatmap(corr_matrix,\n",
    "            cmap='coolwarm',\n",
    "            annot=True,\n",
    "            ax=ax,\n",
    "            annot_kws={\"fontsize\":8},\n",
    "            xticklabels=corr_matrix.columns,\n",
    "            yticklabels=corr_matrix.columns)\n",
    "\n",
    "# Set the font size of the x and y axis tick labels\n",
    "ax.tick_params(axis='x', labelsize=8)\n",
    "ax.tick_params(axis='y', labelsize=8)\n",
    "\n",
    "plt.show()"
   ]
  },
  {
   "cell_type": "markdown",
   "id": "38713d496b390619",
   "metadata": {},
   "source": [
    "<h2>2.2 Environmental data </h2>"
   ]
  },
  {
   "cell_type": "markdown",
   "id": "8539c8cc07e71d4f",
   "metadata": {},
   "source": [
    "<h3>2.2.1 Checking for NaN values in environment data </h3>"
   ]
  },
  {
   "cell_type": "code",
   "execution_count": null,
   "id": "1df63efa014a6d4",
   "metadata": {
    "collapsed": false,
    "jupyter": {
     "outputs_hidden": false
    }
   },
   "outputs": [],
   "source": [
    "df_indexed_env_data.isna().any().any()"
   ]
  },
  {
   "cell_type": "code",
   "execution_count": null,
   "id": "87db147cb5f3a67f",
   "metadata": {
    "collapsed": false,
    "jupyter": {
     "outputs_hidden": false
    }
   },
   "outputs": [],
   "source": [
    "num_rows_with_nan = df_indexed_env_data.isna().any(axis=1).sum()\n",
    "num_rows_with_nan"
   ]
  },
  {
   "cell_type": "code",
   "execution_count": null,
   "id": "25ade70ceca589a0",
   "metadata": {
    "collapsed": false,
    "jupyter": {
     "outputs_hidden": false
    }
   },
   "outputs": [],
   "source": [
    "df_indexed_env_data.dropna(inplace=True)"
   ]
  },
  {
   "cell_type": "code",
   "execution_count": null,
   "id": "a5e7f9c51e35f480",
   "metadata": {
    "collapsed": false,
    "jupyter": {
     "outputs_hidden": false
    }
   },
   "outputs": [],
   "source": [
    "df_indexed_env_data.isna().any().any()"
   ]
  },
  {
   "cell_type": "code",
   "execution_count": null,
   "id": "787ea3f66e8d85f6",
   "metadata": {
    "collapsed": false,
    "jupyter": {
     "outputs_hidden": false
    }
   },
   "outputs": [],
   "source": [
    "df_indexed_energy_data.shape"
   ]
  },
  {
   "cell_type": "code",
   "execution_count": null,
   "id": "6327fe9dde8e4976",
   "metadata": {
    "collapsed": false,
    "jupyter": {
     "outputs_hidden": false
    }
   },
   "outputs": [],
   "source": [
    "df_indexed_env_data.shape"
   ]
  },
  {
   "cell_type": "markdown",
   "id": "f58e5ade60ec6035",
   "metadata": {},
   "source": [
    "<h2>2.3 Resampling (at a frequency of 1Hz)</h2>"
   ]
  },
  {
   "cell_type": "markdown",
   "id": "487547bc2934a1bf",
   "metadata": {},
   "source": [
    "<h3>2.3.1 Resampling energy data</h3>"
   ]
  },
  {
   "cell_type": "code",
   "execution_count": null,
   "id": "638ec79f5dbea716",
   "metadata": {
    "collapsed": false,
    "jupyter": {
     "outputs_hidden": false
    }
   },
   "outputs": [],
   "source": [
    "df_resampled_energy = df_indexed_energy_data.resample('1S').mean()\n",
    "df_interpolated_energy = df_resampled_energy.interpolate()"
   ]
  },
  {
   "cell_type": "markdown",
   "id": "b9275b7034f097ac",
   "metadata": {},
   "source": [
    "<h3>2.3.2 Resampling environmental data</h3>"
   ]
  },
  {
   "cell_type": "code",
   "execution_count": null,
   "id": "ef819581e4ea59fd",
   "metadata": {
    "collapsed": false,
    "jupyter": {
     "outputs_hidden": false
    }
   },
   "outputs": [],
   "source": [
    "df_resampled_env = df_indexed_env_data.resample('1S').mean()\n",
    "df_interpolated_env = df_resampled_env.interpolate()"
   ]
  },
  {
   "cell_type": "code",
   "execution_count": null,
   "id": "883e4c8dec5802a5",
   "metadata": {
    "collapsed": false,
    "jupyter": {
     "outputs_hidden": false
    }
   },
   "outputs": [],
   "source": [
    "df_interpolated_env.shape"
   ]
  },
  {
   "cell_type": "code",
   "execution_count": null,
   "id": "e72a5e05a526afec",
   "metadata": {
    "collapsed": false,
    "jupyter": {
     "outputs_hidden": false
    },
    "scrolled": true,
    "tags": []
   },
   "outputs": [],
   "source": [
    "for column in df_interpolated_env.columns:\n",
    "    df_interpolated_env[column].plot(figsize = (14, 8), title = column)\n",
    "    plt.show()"
   ]
  },
  {
   "cell_type": "code",
   "execution_count": null,
   "id": "87a0a457089cdc77",
   "metadata": {
    "collapsed": false,
    "jupyter": {
     "outputs_hidden": false
    }
   },
   "outputs": [],
   "source": [
    "df_interpolated_env.isna().any().any()"
   ]
  },
  {
   "cell_type": "markdown",
   "id": "849cc909cc140617",
   "metadata": {},
   "source": [
    "<h2>2.4 Index alignment</h2>"
   ]
  },
  {
   "cell_type": "code",
   "execution_count": null,
   "id": "3214fe33988fef23",
   "metadata": {
    "collapsed": false,
    "jupyter": {
     "outputs_hidden": false
    }
   },
   "outputs": [],
   "source": [
    "print(df_interpolated_energy.shape)\n",
    "print(df_interpolated_energy.index[0])\n",
    "print(df_interpolated_energy.index[-1])"
   ]
  },
  {
   "cell_type": "code",
   "execution_count": null,
   "id": "1e07775802e7186d",
   "metadata": {
    "collapsed": false,
    "jupyter": {
     "outputs_hidden": false
    }
   },
   "outputs": [],
   "source": [
    "print(df_interpolated_env.shape)\n",
    "print(df_interpolated_env.index[0])\n",
    "print(df_interpolated_env.index[-1])"
   ]
  },
  {
   "cell_type": "markdown",
   "id": "ffa4cd9114bea212",
   "metadata": {},
   "source": [
    "<b>After resampling, the indices for energy and environment data are not aligned, so alignment is necessary.</b>"
   ]
  },
  {
   "cell_type": "code",
   "execution_count": null,
   "id": "49e4d50b2c59df7f",
   "metadata": {
    "collapsed": false,
    "jupyter": {
     "outputs_hidden": false
    }
   },
   "outputs": [],
   "source": [
    "# align\n",
    "df_interpolated_energy = df_interpolated_energy.iloc[:-2]\n",
    "df_interpolated_env = df_interpolated_env.iloc[2:]\n",
    "\n",
    "# check indices again\n",
    "print(df_interpolated_energy.index[0])\n",
    "print(df_interpolated_energy.index[-1])\n",
    "\n",
    "print(df_interpolated_env.index[0])\n",
    "print(df_interpolated_env.index[-1])"
   ]
  },
  {
   "cell_type": "markdown",
   "id": "b312fc20aebcd9cf",
   "metadata": {},
   "source": [
    "<h1>3 Creating new datasets</h1> "
   ]
  },
  {
   "cell_type": "markdown",
   "id": "9a86eeaf-1403-4e77-8053-a8dc1f36259a",
   "metadata": {},
   "source": [
    "<h2>3.1 Monday dataset</h2>"
   ]
  },
  {
   "cell_type": "code",
   "execution_count": null,
   "id": "659acc39ccdd82d7",
   "metadata": {
    "collapsed": false,
    "jupyter": {
     "outputs_hidden": false
    }
   },
   "outputs": [],
   "source": [
    "# One day, phase A\n",
    "# Choosing features\n",
    "columns_to_drop = ['Active Power B average [kW]','Active Power C average [kW]',\n",
    "                   'Current B average [A]', 'Current C average [A]',\n",
    "                   'Power Factor B average', 'Power Factor C average',\n",
    "                   'Reactive Power B average [kVAr]', 'Reactive Power C average [kVAr]', \n",
    "                   'THDI B average [%]', 'THDI C average [%]',\n",
    "                   'THDU B average [%]', 'THDU C average [%]',\n",
    "                   'Voltage B average [V]', 'Voltage C average [V]'\n",
    "                  ]\n",
    "df_phase_A = df_interpolated_energy.drop(columns = columns_to_drop)\n",
    "\n",
    "# Choosing day\n",
    "day = pd.Timestamp('2023-04-03')"
   ]
  },
  {
   "cell_type": "code",
   "execution_count": null,
   "id": "44f93ec8-cd01-472e-9968-82aae22ce8d7",
   "metadata": {},
   "outputs": [],
   "source": [
    "mask_day = (df_phase_A.index.date == day.date())\n",
    "df_monday = df_phase_A.loc[mask_day]"
   ]
  },
  {
   "cell_type": "code",
   "execution_count": null,
   "id": "a36457b9-31a8-4ce3-b8d0-5ce9c1702995",
   "metadata": {},
   "outputs": [],
   "source": [
    "# The machine only works when current is different from 0, so we shorten the data set to working hours.\n",
    "mask_working_hours = (df_phase_A.index.date == day.date()) & (df_phase_A.index.hour >= 7) & (df_phase_A.index.hour < 19)\n",
    "df_working_hours = df_phase_A.loc[mask_working_hours]"
   ]
  },
  {
   "cell_type": "code",
   "execution_count": null,
   "id": "d7f5c2e6-c0ea-42c0-8474-daf6571abedd",
   "metadata": {},
   "outputs": [],
   "source": [
    "# Due to the demanding calculation of the model it will be taken only before noon.\n",
    "mask_before_noon = (df_phase_A.index.date == day.date()) & (df_phase_A.index.hour >= 7) & (df_phase_A.index.hour < 12)\n",
    "df_before_noon = df_phase_A.loc[mask_before_noon]"
   ]
  },
  {
   "cell_type": "code",
   "execution_count": null,
   "id": "9503f312-de35-42fe-b1fe-dbd214aa37d0",
   "metadata": {
    "tags": []
   },
   "outputs": [],
   "source": [
    "# plt.figure(figsize = (14, 8))\n",
    "# df_one_day_A['Current A average [A]'].plot(title = 'Current A average [A]')\n",
    "\n",
    "# plt.figure(figsize = (14, 8))\n",
    "# df_working_hours['Current A average [A]'].plot(title = 'Current A average [A]')\n",
    "\n",
    "# plt.figure(figsize = (14, 8))\n",
    "# df_before_noon['Current A average [A]'].plot(title = 'Current A average [A]')"
   ]
  },
  {
   "cell_type": "code",
   "execution_count": null,
   "id": "62b04e2a-e5a8-4dd4-9ca6-56238f049439",
   "metadata": {},
   "outputs": [],
   "source": [
    "start_time = pd.Timestamp('2023-04-03 11:00:00')\n",
    "end_time = pd.Timestamp('2023-04-03 14:30:00')\n",
    "\n",
    "mask_two_hours = (df_phase_A.index >= start_time) & (df_phase_A.index < end_time)\n",
    "df_two_hours = df_phase_A.loc[mask_two_hours]"
   ]
  },
  {
   "cell_type": "code",
   "execution_count": null,
   "id": "7a5c4e8e-4db9-44a7-930c-418bf00a0f79",
   "metadata": {},
   "outputs": [],
   "source": [
    "df_two_hours = df_two_hours[df_two_hours['THDI A average [%]'] > 0]\n",
    "df_energy_3 = df_two_hours"
   ]
  },
  {
   "cell_type": "code",
   "execution_count": null,
   "id": "d32c5179-a15b-4ed7-97ab-442ede03c400",
   "metadata": {},
   "outputs": [],
   "source": [
    "df_two_hours.head(1)"
   ]
  },
  {
   "cell_type": "code",
   "execution_count": null,
   "id": "3c2f1b21-1fc5-4ed4-a6bc-acc6bfad06b5",
   "metadata": {},
   "outputs": [],
   "source": [
    "df_two_hours.tail(1)"
   ]
  },
  {
   "cell_type": "markdown",
   "id": "f80d83ea-5feb-448c-9f2f-79500cc21fd6",
   "metadata": {},
   "source": [
    "<h2>3.2 Helper Functions</h2>"
   ]
  },
  {
   "cell_type": "markdown",
   "id": "ec2179723c5afa3c",
   "metadata": {},
   "source": [
    "features (X), \n",
    "treatment variable (T), \n",
    "outcome variable (Y)"
   ]
  },
  {
   "cell_type": "code",
   "execution_count": null,
   "id": "96550faa-386a-4322-9580-9a16c010413f",
   "metadata": {},
   "outputs": [],
   "source": [
    "# create datasets for all possible combinations of control variables\n",
    "def create_all_Xs(df):\n",
    "    Xs = []\n",
    "    for column in df.columns:\n",
    "        X = df.drop(column, axis=1)\n",
    "        Xs.append(X)\n",
    "    return Xs"
   ]
  },
  {
   "cell_type": "code",
   "execution_count": null,
   "id": "5599290d-4e50-4983-ab24-cc597e241d9b",
   "metadata": {},
   "outputs": [],
   "source": [
    "def ndarray_to_list(obj):\n",
    "    if isinstance(obj, np.ndarray):\n",
    "        return obj.tolist()\n",
    "    raise TypeError"
   ]
  },
  {
   "cell_type": "code",
   "execution_count": null,
   "id": "f3c3048e-5489-4149-9318-7097fc6498a4",
   "metadata": {},
   "outputs": [],
   "source": [
    "def visualize_models(environmental_models):\n",
    "    \n",
    "    for env_parameter_name, env_models in environmental_models.items():\n",
    "        for energy_parameter_name, model in env_models.items():\n",
    "    \n",
    "            # Create a histogram of the CATE estimates - Conditional Average Treatment Effect\n",
    "            fig = go.Figure(data=[go.Histogram(x=model['pnt_effect'], nbinsx=30)])\n",
    "            \n",
    "            fig.update_layout(\n",
    "                title_text='Distribution of Estimated CATE for Feature: {}, Outcome: {}'.format(energy_parameter_name, env_parameter_name), \n",
    "                xaxis_title_text='Estimated CATE', \n",
    "                yaxis_title_text='Frequency', \n",
    "            )\n",
    "            \n",
    "            fig.show()"
   ]
  },
  {
   "cell_type": "code",
   "execution_count": null,
   "id": "b6ced6b6-3ff2-4e94-9f13-9df20ae7391f",
   "metadata": {},
   "outputs": [],
   "source": [
    "def persist(env_models, filename):\n",
    "    with open('/home/nissatech/Documents/Double Machine Learning/Models/' + filename + '.json', 'w') as f:\n",
    "        json.dump(env_models, f, default=ndarray_to_list)"
   ]
  },
  {
   "cell_type": "code",
   "execution_count": null,
   "id": "5e7506ac-33e6-48b5-a5e3-c1767441633e",
   "metadata": {},
   "outputs": [],
   "source": [
    "def load_models(filename):\n",
    "    with open(filename, 'r') as f:\n",
    "        models = json.load(f)\n",
    "    return models"
   ]
  },
  {
   "cell_type": "code",
   "execution_count": null,
   "id": "bdd97b7f-f437-401b-a273-b3ccd81994d8",
   "metadata": {},
   "outputs": [],
   "source": [
    "def find_causality(df_energy, df_env, est, alpha=0.05, verbose=False):\n",
    "    \"\"\"\n",
    "    Trains a provided estimator on multiple treatments and outcomes, \n",
    "    recording effects and coefficients.\n",
    "    \n",
    "    Args:\n",
    "        df_energy (DataFrame): DataFrame of treatment variables.\n",
    "        df_env (DataFrame): DataFrame of outcome variables.\n",
    "        est: The estimator to use for causal inference.\n",
    "        alpha (float): The significance level for confidence intervals.\n",
    "        verbose (bool): Whether to print progress updates.\n",
    "    \n",
    "    Returns:\n",
    "        dict: Nested dictionary of model outputs.\n",
    "    \"\"\"\n",
    "    \n",
    "    Xs = create_all_Xs(df_energy)\n",
    "\n",
    "    environmental_models = {}\n",
    "    \n",
    "    for (outcome_name, Y) in df_env.iteritems():\n",
    "        if verbose: print(\"Outcome: \" + outcome_name)\n",
    "        fitted_models = {}\n",
    "        for X, (treatment_name, T) in zip(Xs, df_energy.iteritems()):\n",
    "            if verbose: print(\"\\tTreatment: \" + treatment_name)\n",
    "            start_time = time.time()\n",
    "            est.fit(Y, T, X=X)\n",
    "            end_time = time.time()\n",
    "            training_time = end_time - start_time\n",
    "    \n",
    "            model_outputs = {\n",
    "                'pnt_effect': est.const_marginal_effect(X),\n",
    "                'lb_effect': est.const_marginal_effect_interval(X, alpha)[0],\n",
    "                'ub_effect': est.const_marginal_effect_interval(X, alpha)[1],\n",
    "                'pnt_coef': est.coef_,\n",
    "                'lb_coef': est.coef__interval(alpha=.05)[0],\n",
    "                'ub_coef': est.coef__interval(alpha=.05)[1],\n",
    "            }\n",
    "    \n",
    "            fitted_models[treatment_name] = model_outputs\n",
    "            if verbose: print(f\"\\tTraining time: {training_time} seconds\") \n",
    "                \n",
    "        environmental_models[outcome_name] = fitted_models\n",
    "        \n",
    "    return environmental_models"
   ]
  },
  {
   "cell_type": "markdown",
   "id": "cc17d0c3d7cd04c7",
   "metadata": {},
   "source": [
    "<h1>4 Econ ML</h1>"
   ]
  },
  {
   "cell_type": "code",
   "execution_count": null,
   "id": "4d16e89cae185f52",
   "metadata": {
    "collapsed": false,
    "jupyter": {
     "outputs_hidden": false
    }
   },
   "outputs": [],
   "source": [
    "# pip install econml"
   ]
  },
  {
   "cell_type": "code",
   "execution_count": null,
   "id": "68e2503b7c0a5876",
   "metadata": {
    "collapsed": false,
    "jupyter": {
     "outputs_hidden": false
    }
   },
   "outputs": [],
   "source": [
    "import econml"
   ]
  },
  {
   "cell_type": "markdown",
   "id": "de7c9a561ba09d10",
   "metadata": {},
   "source": [
    "<h2>4.1 Data Preparation</h2>"
   ]
  },
  {
   "cell_type": "code",
   "execution_count": null,
   "id": "aa07495d-a177-4d58-aa17-4e7c8947aeac",
   "metadata": {},
   "outputs": [],
   "source": [
    "Xs = create_all_Xs(df_before_noon)"
   ]
  },
  {
   "cell_type": "markdown",
   "id": "383788ad8fee232f",
   "metadata": {},
   "source": [
    "<h2>4.2 Model </h2>"
   ]
  },
  {
   "cell_type": "markdown",
   "id": "1278920f5389739c",
   "metadata": {},
   "source": [
    "We choose Orthogonal Random Forest (ORF), because it is intended for use cases when both treatment and output variables are continuous."
   ]
  },
  {
   "cell_type": "code",
   "execution_count": null,
   "id": "aeae37c6836dc127",
   "metadata": {
    "collapsed": false,
    "jupyter": {
     "outputs_hidden": false
    }
   },
   "outputs": [],
   "source": [
    "from econml.dml import LinearDML\n",
    "from sklearn.ensemble import RandomForestRegressor"
   ]
  },
  {
   "cell_type": "markdown",
   "id": "8c99109705befb03",
   "metadata": {},
   "source": [
    "<h3>4.2.1 Create and train the model</h3>"
   ]
  },
  {
   "cell_type": "markdown",
   "id": "258b1f7315361e37",
   "metadata": {},
   "source": [
    "model_y - outcome model <p>\n",
    "model_t - treatment model"
   ]
  },
  {
   "cell_type": "code",
   "execution_count": null,
   "id": "baba1f45ab1e61a3",
   "metadata": {
    "collapsed": false,
    "jupyter": {
     "outputs_hidden": false
    }
   },
   "outputs": [],
   "source": [
    "est = LinearDML(model_y=RandomForestRegressor(),\n",
    "                model_t=RandomForestRegressor())"
   ]
  },
  {
   "cell_type": "code",
   "execution_count": null,
   "id": "3356ac96-79d5-45d4-b1ab-f02b0ce94c58",
   "metadata": {},
   "outputs": [],
   "source": [
    "# Here, the effects of energy data on CO2 are examined\n",
    "fitted_models = {}\n",
    "\n",
    "for X, (column_name, T) in zip(Xs, df_before_noon.iteritems()):\n",
    "    start_time = time.time()\n",
    "    est.fit(Y, T, X=X)\n",
    "    end_time = time.time()\n",
    "    training_time = end_time - start_time\n",
    "    \n",
    "    model_outputs = {\n",
    "        'pnt_effect': est.const_marginal_effect(X),\n",
    "        'lb_effect': est.const_marginal_effect_interval(X, alpha=.05)[0],\n",
    "        'ub_effect': est.const_marginal_effect_interval(X, alpha=.05)[1],\n",
    "        'pnt_coef': est.coef_,\n",
    "        'lb_coef': est.coef__interval(alpha=.05)[0],\n",
    "        'ub_coef': est.coef__interval(alpha=.05)[1],\n",
    "        'training_time': training_time\n",
    "    }\n",
    "\n",
    "    fitted_models[column_name] = model_outputs\n",
    "    \n",
    "    print(f\"Training time: {training_time} seconds\")  "
   ]
  },
  {
   "cell_type": "markdown",
   "id": "98550f22745b53dc",
   "metadata": {},
   "source": [
    "<h3>4.2.2 Model outputs visualization</h3>"
   ]
  },
  {
   "cell_type": "markdown",
   "id": "88826a27-17d4-4f9b-8ac9-8d4fc54e7fd9",
   "metadata": {},
   "source": [
    "<h4>4.2.2.1 CATE - Conditional Average Treatment Effect</h4>"
   ]
  },
  {
   "cell_type": "code",
   "execution_count": null,
   "id": "e3cb63ba-286a-42a8-826a-676dafe436ce",
   "metadata": {
    "scrolled": true,
    "tags": []
   },
   "outputs": [],
   "source": [
    "for model in fitted_models:\n",
    "\n",
    "    # Create a histogram of the CATE estimates - Conditional Average Treatment Effect\n",
    "    fig = go.Figure(data=[go.Histogram(x=fitted_models[model]['pnt_effect'], nbinsx=30)])\n",
    "    \n",
    "    fig.update_layout(\n",
    "        title_text='Distribution of Estimated CATE for Feature: {}, Outcome:'.format(model), , \n",
    "        xaxis_title_text='Estimated CATE', \n",
    "        yaxis_title_text='Frequency', \n",
    "    )\n",
    "    \n",
    "    fig.show()"
   ]
  },
  {
   "cell_type": "markdown",
   "id": "166155ac-2a71-4e2e-92f6-ecb9a213b078",
   "metadata": {},
   "source": [
    "<h4>4.2.2.2 ATE - Average Treatment Effect</h4>"
   ]
  },
  {
   "cell_type": "code",
   "execution_count": null,
   "id": "f4b28932-7702-4de5-98e6-8fc4af0a6271",
   "metadata": {},
   "outputs": [],
   "source": [
    "import pandas as pd\n",
    "import matplotlib.pyplot as plt\n",
    "\n",
    "# Initialize a dictionary to store the ATEs\n",
    "ate_dict = {}\n",
    "\n",
    "for model in fitted_models:\n",
    "    \n",
    "    # Estimate the CATE\n",
    "    cate_estimates = fitted_models[model]['pnt_effect']\n",
    "\n",
    "    # Estimate the ATE by taking the average of the CATE estimates\n",
    "    ate_estimate = np.mean(cate_estimates)\n",
    "\n",
    "    # Store the ATE in the dictionary\n",
    "    ate_dict[model] = ate_estimate\n",
    "\n",
    "# Convert the dictionary to a DataFrame\n",
    "ate_df = pd.DataFrame(list(ate_dict.items()), columns=['Model', 'ATE'])\n",
    "\n",
    "# Create a bar plot of the ATEs\n",
    "plt.figure(figsize=(10, 6))\n",
    "plt.bar(ate_df['Model'], ate_df['ATE'], color='blue')\n",
    "plt.ylabel('Average Treatment Effect')\n",
    "plt.title('Average Treatment Effects for Different Models')\n",
    "plt.xticks(rotation=90)  # Rotate the x-axis labels for better readability\n",
    "plt.show()"
   ]
  },
  {
   "cell_type": "markdown",
   "id": "149420d1-e10d-40e2-9846-d0ed6a166287",
   "metadata": {},
   "source": [
    "<h1>5 Three hours data set</h1>"
   ]
  },
  {
   "cell_type": "code",
   "execution_count": null,
   "id": "a5727c5a-35de-4bcb-aa34-baa513684458",
   "metadata": {},
   "outputs": [],
   "source": [
    "df_env_3 = df_interpolated_env.loc[df_two_hours.index[0]:df_two_hours.index[-1]]"
   ]
  },
  {
   "cell_type": "code",
   "execution_count": null,
   "id": "90a954ad-4d9b-403d-9393-e5384e4f3ccf",
   "metadata": {
    "scrolled": true,
    "tags": []
   },
   "outputs": [],
   "source": [
    "environmental_models_raw = find_causality(df_energy_3, df_env_3)"
   ]
  },
  {
   "cell_type": "code",
   "execution_count": null,
   "id": "9c248bcf-688e-45ab-a138-37ff8455c590",
   "metadata": {
    "scrolled": true,
    "tags": []
   },
   "outputs": [],
   "source": [
    "visualize_models(environmental_models_raw)"
   ]
  },
  {
   "cell_type": "code",
   "execution_count": null,
   "id": "fe18d12a-9aec-4f2e-bbf7-05c13be0f8e7",
   "metadata": {},
   "outputs": [],
   "source": [
    "persist(environmental_models_raw, \"Raw\")"
   ]
  },
  {
   "cell_type": "markdown",
   "id": "5dc63687-8dfd-4f69-9df3-7ed10ddad102",
   "metadata": {},
   "source": [
    "<h1>6 Normalized data set</h1>"
   ]
  },
  {
   "cell_type": "code",
   "execution_count": null,
   "id": "7a61c9f9-a7ab-4325-8834-fc2ead738006",
   "metadata": {},
   "outputs": [],
   "source": [
    "scaler = StandardScaler()\n",
    "df_energy_3_normalized = pd.DataFrame(scaler.fit_transform(df_energy_3), \n",
    "                                      columns=df_energy_3.columns, \n",
    "                                      index=df_energy_3.index)\n",
    "\n",
    "df_env_3_normalized = pd.DataFrame(scaler.fit_transform(df_env_3), \n",
    "                                      columns=df_env_3.columns, \n",
    "                                      index=df_env_3.index)"
   ]
  },
  {
   "cell_type": "code",
   "execution_count": null,
   "id": "57eaf3ca-39e4-41a2-b85a-f0ff1e27fcb3",
   "metadata": {
    "scrolled": true,
    "tags": []
   },
   "outputs": [],
   "source": [
    "env_models_normalized = find_causality(df_energy_3_normalized, df_env_3_normalized)"
   ]
  },
  {
   "cell_type": "code",
   "execution_count": null,
   "id": "1ac1b274-69e0-4212-bd9a-27366cb96188",
   "metadata": {
    "scrolled": true,
    "tags": []
   },
   "outputs": [],
   "source": [
    "visualize_models(env_models_normalized)"
   ]
  },
  {
   "cell_type": "code",
   "execution_count": null,
   "id": "c357c374-7240-47dc-8ddc-67bfe7d81ae6",
   "metadata": {},
   "outputs": [],
   "source": [
    "persist(env_models_normalized, \"Normalized\")"
   ]
  },
  {
   "cell_type": "markdown",
   "id": "7a73a86c-47a1-4d37-937d-47ce13b2d1e6",
   "metadata": {},
   "source": [
    "<h1>7 Differentiated data set</h1>"
   ]
  },
  {
   "cell_type": "code",
   "execution_count": null,
   "id": "476e1877-070c-4aad-9226-6cebf52a4c31",
   "metadata": {},
   "outputs": [],
   "source": [
    "df_energy_3_diff = df_energy_3.diff()\n",
    "df_env_3_diff = df_env_3.diff()\n",
    "\n",
    "df_energy_3_diff = df_energy_3_diff.dropna()\n",
    "df_env_3_diff = df_env_3_diff.dropna()"
   ]
  },
  {
   "cell_type": "code",
   "execution_count": null,
   "id": "d5439add-1f69-4d92-a2cc-f1de0abb50c6",
   "metadata": {},
   "outputs": [],
   "source": [
    "df_energy_3_diff.columns"
   ]
  },
  {
   "cell_type": "code",
   "execution_count": null,
   "id": "acf8c29e-9642-4886-8010-e3ec82d5b824",
   "metadata": {},
   "outputs": [],
   "source": [
    "df_env_3_diff.columns"
   ]
  },
  {
   "cell_type": "code",
   "execution_count": null,
   "id": "25d44b79-2220-44fd-9f6c-0e7c284c417a",
   "metadata": {
    "scrolled": true,
    "tags": []
   },
   "outputs": [],
   "source": [
    "env_models_diff = find_causality(df_energy_3_diff, df_env_3_diff)"
   ]
  },
  {
   "cell_type": "code",
   "execution_count": null,
   "id": "b239b544-b628-4c34-bc70-b224f364b877",
   "metadata": {
    "scrolled": true,
    "tags": []
   },
   "outputs": [],
   "source": [
    "visualize_models(env_models_diff)"
   ]
  },
  {
   "cell_type": "code",
   "execution_count": null,
   "id": "40ea4715-67fc-4c99-8a93-898f865d4829",
   "metadata": {},
   "outputs": [],
   "source": [
    "persist(env_models_diff, \"Diff\")"
   ]
  },
  {
   "cell_type": "markdown",
   "id": "fbf9f7e7-31f6-44ec-aeff-7527abee6ec7",
   "metadata": {},
   "source": [
    "<h1>8 Include Environment Variables in W parameter</h1>"
   ]
  },
  {
   "cell_type": "code",
   "execution_count": null,
   "id": "29186ab4-e31f-46c5-9288-69f7892c4f7d",
   "metadata": {},
   "outputs": [],
   "source": [
    "X = df_energy_3_diff.copy().drop('Current A average [A]', axis=1)\n",
    "T = df_energy_3_diff['Current A average [A]']\n",
    "Y = df_env_3_diff['CO2']\n",
    "W = df_env_3_diff.copy().drop('CO2', axis = 1)\n",
    "\n",
    "# estimator here\n",
    "est = LinearDML(model_y=RandomForestRegressor(),\n",
    "                model_t=RandomForestRegressor())\n",
    "\n",
    "est.fit(Y, T, X=X, W=W)\n",
    "model_outputs = {\n",
    "    'pnt_effect': est.const_marginal_effect(X),\n",
    "    'lb_effect': est.const_marginal_effect_interval(X, alpha=0.05)[0],\n",
    "    'ub_effect': est.const_marginal_effect_interval(X, alpha=0.05)[1],\n",
    "    'pnt_coef': est.coef_,\n",
    "    'lb_coef': est.coef__interval(alpha=.05)[0],\n",
    "    'ub_coef': est.coef__interval(alpha=.05)[1],\n",
    "}"
   ]
  },
  {
   "cell_type": "code",
   "execution_count": null,
   "id": "e1a990cb-78de-4608-9b15-8f4c58b7d65b",
   "metadata": {},
   "outputs": [],
   "source": [
    "fig = go.Figure(data=[go.Histogram(x=model_outputs['pnt_effect'], nbinsx=30)])          \n",
    "fig.update_layout(\n",
    "    title_text='Distribution of Estimated CATE for Treatment: {}, Outcome: {}'.format('Current A average [A]', 'CO2'), \n",
    "    xaxis_title_text='Estimated CATE', \n",
    "    yaxis_title_text='Frequency', \n",
    ")\n",
    "fig.show()"
   ]
  },
  {
   "cell_type": "markdown",
   "id": "9d6d08e6-b6d9-4d0b-bb13-4e0e0dc3fbeb",
   "metadata": {},
   "source": [
    "<h1>9 Visualize residuals</h1>"
   ]
  },
  {
   "cell_type": "code",
   "execution_count": null,
   "id": "4ce085d7-f3b9-4446-993f-af955afd5a49",
   "metadata": {},
   "outputs": [],
   "source": [
    "# TODO: Ispraviti ovaj Approach pošto drugi deo nije tačan\n",
    "# Potrebno je obe vrste reziduala samostalno izračunati\n",
    "# Takođe proveriti šta je u tom slučaju sa randomnes"
   ]
  },
  {
   "cell_type": "code",
   "execution_count": null,
   "id": "b08f96a8-01bd-4679-b17f-7dd034b96eaa",
   "metadata": {},
   "outputs": [],
   "source": [
    "# First, compute the residuals for the treatment\n",
    "# Train a model to predict T from X and W using RandomForestRegressor\n",
    "model_t = RandomForestRegressor()\n",
    "model_t.fit(pd.concat([X, W], axis=1), T)\n",
    "predicted_T = model_t.predict(pd.concat([X, W], axis=1))\n",
    "\n",
    "residual_T = T - predicted_T\n",
    "\n",
    "# Now, compute the residuals for the outcome\n",
    "predicted_effect = est.effect(X).flatten()\n",
    "residual_Y = Y - predicted_effect"
   ]
  },
  {
   "cell_type": "code",
   "execution_count": null,
   "id": "0965b228-49ad-4201-905b-1573a4d056a0",
   "metadata": {},
   "outputs": [],
   "source": [
    "# Scatter plot of the residuals\n",
    "plt.figure(figsize=(10, 6))\n",
    "plt.scatter(residual_T, residual_Y, alpha=0.5)\n",
    "plt.xlabel('Residual Treatment (ml_m)')\n",
    "plt.ylabel('Residual Outcome (ml_l)')\n",
    "plt.title('Residuals from DML')\n",
    "plt.show()"
   ]
  },
  {
   "cell_type": "markdown",
   "id": "67a8c784-fc21-4594-a159-2ff8689dc7ab",
   "metadata": {},
   "source": [
    "<h1>10 Visualize confidence intervals - EconML git</h1>"
   ]
  },
  {
   "cell_type": "code",
   "execution_count": null,
   "id": "cd1dcb98-bb49-4fd0-8fca-d7450b2e49ba",
   "metadata": {},
   "outputs": [],
   "source": []
  }
 ],
 "metadata": {
  "kernelspec": {
   "display_name": "Python 3",
   "language": "python",
   "name": "python3"
  },
  "language_info": {
   "codemirror_mode": {
    "name": "ipython",
    "version": 3
   },
   "file_extension": ".py",
   "mimetype": "text/x-python",
   "name": "python",
   "nbconvert_exporter": "python",
   "pygments_lexer": "ipython3",
   "version": "3.8.8"
  }
 },
 "nbformat": 4,
 "nbformat_minor": 5
}
