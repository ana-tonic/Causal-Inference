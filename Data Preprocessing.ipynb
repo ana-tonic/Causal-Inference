{
 "cells": [
  {
   "cell_type": "code",
   "execution_count": null,
   "id": "81c1fa4d-ed8e-47b4-976b-b78ce0eea08f",
   "metadata": {},
   "outputs": [],
   "source": [
    "# pip install --upgrade scikit-learn"
   ]
  },
  {
   "cell_type": "code",
   "execution_count": 51,
   "id": "a2f4235d-79d8-44d5-8b60-e9e038d7bc61",
   "metadata": {},
   "outputs": [],
   "source": [
    "import warnings\n",
    "from numba import NumbaDeprecationWarning\n",
    "\n",
    "warnings.filterwarnings(\"ignore\", category=NumbaDeprecationWarning)\n",
    "\n",
    "import numpy as np\n",
    "import pandas as pd\n",
    "import matplotlib.pyplot as plt\n",
    "import seaborn as sns\n",
    "import time\n",
    "import json\n",
    "import joblib\n",
    "import os\n",
    "import econml\n",
    "import plotly.graph_objects as go\n",
    "\n",
    "from sklearn.preprocessing import StandardScaler\n",
    "from econml.dml import LinearDML\n",
    "from sklearn.ensemble import RandomForestRegressor"
   ]
  },
  {
   "cell_type": "markdown",
   "id": "c18a8d4f-976b-4244-a6a3-9757a0ce25f8",
   "metadata": {},
   "source": [
    "<h1>1 Imports</h1>"
   ]
  },
  {
   "cell_type": "code",
   "execution_count": 52,
   "id": "e3ba39a1-3053-46c5-96a0-69c24866dc5c",
   "metadata": {},
   "outputs": [],
   "source": [
    "energy_data = pd.read_csv('/home/nissatech/Documents/Double Machine Learning/Raw Data/energy_data.csv')"
   ]
  },
  {
   "cell_type": "code",
   "execution_count": 53,
   "id": "5444377b-8af3-4cfc-b740-68b185d8e333",
   "metadata": {},
   "outputs": [],
   "source": [
    "env_data = pd.read_csv('/home/nissatech/Documents/Double Machine Learning/Raw Data/environment_data.csv')"
   ]
  },
  {
   "cell_type": "markdown",
   "id": "2b79df5b-8c6d-4018-9987-d4e7ee91d269",
   "metadata": {},
   "source": [
    "<h1>2 Indexing</h1>"
   ]
  },
  {
   "cell_type": "code",
   "execution_count": 54,
   "id": "ebbaf6da-eb62-4066-a831-824e301d4510",
   "metadata": {},
   "outputs": [],
   "source": [
    "df_indexed_env_data = env_data.copy()\n",
    "df_indexed_env_data['timestamp'] = pd.to_datetime(df_indexed_env_data['timestamp'])\n",
    "df_indexed_env_data.index = df_indexed_env_data['timestamp']\n",
    "del df_indexed_env_data['timestamp']"
   ]
  },
  {
   "cell_type": "code",
   "execution_count": 55,
   "id": "92d00793-83ba-4f94-88fc-74efa14d7c1f",
   "metadata": {},
   "outputs": [],
   "source": [
    "df_indexed_energy_data = energy_data.copy()\n",
    "df_indexed_energy_data['timestamp'] = pd.to_datetime(df_indexed_energy_data['timestamp'])\n",
    "df_indexed_energy_data.index = df_indexed_energy_data['timestamp']\n",
    "del df_indexed_energy_data['timestamp']"
   ]
  },
  {
   "cell_type": "markdown",
   "id": "5d9f3b6b-29cc-46ca-8fe9-9f403674ddae",
   "metadata": {},
   "source": [
    "<h1>3 Dealing with NaN values</h1>"
   ]
  },
  {
   "cell_type": "code",
   "execution_count": 56,
   "id": "e1f679eb-2c2b-42c3-8f3d-0f4e1c33b399",
   "metadata": {},
   "outputs": [
    {
     "data": {
      "text/plain": [
       "False"
      ]
     },
     "execution_count": 56,
     "metadata": {},
     "output_type": "execute_result"
    }
   ],
   "source": [
    "df_indexed_energy_data.isna().any().any()"
   ]
  },
  {
   "cell_type": "code",
   "execution_count": 57,
   "id": "b985aa5a-a1fd-4df0-8916-c732602e1bb6",
   "metadata": {},
   "outputs": [
    {
     "data": {
      "text/plain": [
       "True"
      ]
     },
     "execution_count": 57,
     "metadata": {},
     "output_type": "execute_result"
    }
   ],
   "source": [
    "df_indexed_env_data.isna().any().any()"
   ]
  },
  {
   "cell_type": "code",
   "execution_count": 58,
   "id": "2ffd2733-80b7-4af1-9988-6370654ca4b0",
   "metadata": {},
   "outputs": [
    {
     "data": {
      "text/plain": [
       "23"
      ]
     },
     "execution_count": 58,
     "metadata": {},
     "output_type": "execute_result"
    }
   ],
   "source": [
    "num_rows_with_nan = df_indexed_env_data.isna().any(axis=1).sum()\n",
    "num_rows_with_nan"
   ]
  },
  {
   "cell_type": "code",
   "execution_count": 59,
   "id": "4d49a723-aaae-4ad8-ad7f-cad403eecc08",
   "metadata": {},
   "outputs": [],
   "source": [
    "df_indexed_env_data.dropna(inplace=True)"
   ]
  },
  {
   "cell_type": "code",
   "execution_count": 60,
   "id": "c1922a61-9711-44a4-969b-f94d9598d39d",
   "metadata": {},
   "outputs": [
    {
     "data": {
      "text/plain": [
       "False"
      ]
     },
     "execution_count": 60,
     "metadata": {},
     "output_type": "execute_result"
    }
   ],
   "source": [
    "df_indexed_env_data.isna().any().any()"
   ]
  },
  {
   "cell_type": "code",
   "execution_count": 61,
   "id": "79a8e84e-2a3d-4933-8cd5-7f0646e70659",
   "metadata": {},
   "outputs": [
    {
     "data": {
      "image/png": "[encoded data removed]",
      "text/latex": [
       "$\\displaystyle \\left( 414969, \\  22\\right)$"
      ],
      "text/plain": [
       "(414969, 22)"
      ]
     },
     "execution_count": 61,
     "metadata": {},
     "output_type": "execute_result"
    }
   ],
   "source": [
    "df_indexed_energy_data.shape"
   ]
  },
  {
   "cell_type": "code",
   "execution_count": 62,
   "id": "26a33a28-a97a-4541-931b-498c5782a2e1",
   "metadata": {},
   "outputs": [
    {
     "data": {
      "image/png": "[encoded data removed]",
      "text/latex": [
       "$\\displaystyle \\left( 492473, \\  8\\right)$"
      ],
      "text/plain": [
       "(492473, 8)"
      ]
     },
     "execution_count": 62,
     "metadata": {},
     "output_type": "execute_result"
    }
   ],
   "source": [
    "df_indexed_env_data.shape"
   ]
  },
  {
   "cell_type": "markdown",
   "id": "2e2cccb6-3923-4fae-aac0-56203877b8c0",
   "metadata": {},
   "source": [
    "<h1>4 Resampling (at a frequency of 1Hz) </h1>"
   ]
  },
  {
   "cell_type": "code",
   "execution_count": 63,
   "id": "904e7d35-b3b8-4d54-bee4-bbeeb757dda5",
   "metadata": {},
   "outputs": [],
   "source": [
    "df_resampled_energy = df_indexed_energy_data.resample('1S').mean()\n",
    "df_interpolated_energy = df_resampled_energy.interpolate()"
   ]
  },
  {
   "cell_type": "code",
   "execution_count": 64,
   "id": "1222fd4d-4374-4fca-9b62-3da03cea33b3",
   "metadata": {},
   "outputs": [],
   "source": [
    "df_resampled_env = df_indexed_env_data.resample('1S').mean()\n",
    "df_interpolated_env = df_resampled_env.interpolate()"
   ]
  },
  {
   "cell_type": "markdown",
   "id": "33fed1fc-68d2-4d4e-80a5-4c3eb1c0b2ab",
   "metadata": {},
   "source": [
    "<h1>5 Index alignment</h1>"
   ]
  },
  {
   "cell_type": "code",
   "execution_count": 65,
   "id": "b3d85eff-b5ba-4eff-8de9-ed6797d5f201",
   "metadata": {},
   "outputs": [],
   "source": [
    "# print(df_interpolated_energy.shape)\n",
    "# print(df_interpolated_energy.index[0])\n",
    "# print(df_interpolated_energy.index[-1])"
   ]
  },
  {
   "cell_type": "code",
   "execution_count": 66,
   "id": "c93cacf1-3e02-43d4-b32f-00d248c15fb4",
   "metadata": {},
   "outputs": [],
   "source": [
    "# print(df_interpolated_env.shape)\n",
    "# print(df_interpolated_env.index[0])\n",
    "# print(df_interpolated_env.index[-1])"
   ]
  },
  {
   "cell_type": "code",
   "execution_count": 67,
   "id": "e59f2d9b-daf6-4e79-8c7d-4408641ca724",
   "metadata": {},
   "outputs": [],
   "source": [
    "# align\n",
    "df_interpolated_energy = df_interpolated_energy.iloc[:-2]\n",
    "df_interpolated_env = df_interpolated_env.iloc[2:]\n",
    "\n",
    "# check indices again\n",
    "# print(df_interpolated_energy.index[0])\n",
    "# print(df_interpolated_energy.index[-1])\n",
    "\n",
    "# print(df_interpolated_env.index[0])\n",
    "# print(df_interpolated_env.index[-1])"
   ]
  },
  {
   "cell_type": "markdown",
   "id": "7cc06342-b9a8-47d1-810b-88dbef9ed615",
   "metadata": {},
   "source": [
    "<h1>6 Creating new Dataset for processing</h1>"
   ]
  },
  {
   "cell_type": "code",
   "execution_count": 118,
   "id": "3ac4818c-5ee8-4e13-a049-483852e66679",
   "metadata": {},
   "outputs": [],
   "source": [
    "# Choosing features\n",
    "columns_to_drop = ['Active Power B average [kW]','Active Power C average [kW]',\n",
    "                   'Current B average [A]', 'Current C average [A]',\n",
    "                   'Power Factor B average', 'Power Factor C average',\n",
    "                   'Reactive Power B average [kVAr]', 'Reactive Power C average [kVAr]', \n",
    "                   'THDI B average [%]', 'THDI C average [%]',\n",
    "                   'THDU B average [%]', 'THDU C average [%]',\n",
    "                   'Voltage B average [V]', 'Voltage C average [V]',\n",
    "                   'Active Power A average [kW]', 'Frequency average [Hz]'\n",
    "                  ]\n",
    "\n",
    "df_phase_A = df_interpolated_energy.drop(columns=columns_to_drop)\n",
    "\n",
    "# Define the time range\n",
    "start_time = pd.Timestamp('2023-04-03 11:35:00')\n",
    "end_time = pd.Timestamp('2023-04-03 14:30:00')\n",
    "\n",
    "# Filter the data\n",
    "mask_two_hours = (df_phase_A.index >= start_time) & (df_phase_A.index < end_time)\n",
    "df_energy_3 = df_phase_A.loc[mask_two_hours]\n",
    "df_energy_3 = df_energy_3[df_energy_3['THDI A average [%]'] > 0]"
   ]
  },
  {
   "cell_type": "code",
   "execution_count": 119,
   "id": "a2cd4910-b5f9-4541-98b6-f300e71421da",
   "metadata": {},
   "outputs": [],
   "source": [
    "df_env_3 = df_interpolated_env.loc[df_energy_3.index[0]:df_energy_3.index[-1]]"
   ]
  },
  {
   "cell_type": "markdown",
   "id": "b371665e-e3bc-4f78-893c-0b04d46c077d",
   "metadata": {},
   "source": [
    "<h1>7 Visualization</h1>"
   ]
  },
  {
   "cell_type": "code",
   "execution_count": null,
   "id": "92859e6e-a5f1-40fa-82d6-62eca04ab25f",
   "metadata": {
    "tags": []
   },
   "outputs": [],
   "source": [
    "# for column in df_energy_3.columns:\n",
    "#     df_energy_3[column].plot(figsize = (14, 8), title = column)\n",
    "#     plt.show()"
   ]
  },
  {
   "cell_type": "code",
   "execution_count": 107,
   "id": "4f404dc5-c466-426c-afcc-7bc9d28c16a8",
   "metadata": {
    "scrolled": true,
    "tags": []
   },
   "outputs": [],
   "source": [
    "# for column in df_env_3.columns:\n",
    "#     df_env_3[column].plot(figsize = (14, 8), title = column)\n",
    "#     plt.show()"
   ]
  }
 ],
 "metadata": {
  "kernelspec": {
   "display_name": "Python 3",
   "language": "python",
   "name": "python3"
  },
  "language_info": {
   "codemirror_mode": {
    "name": "ipython",
    "version": 3
   },
   "file_extension": ".py",
   "mimetype": "text/x-python",
   "name": "python",
   "nbconvert_exporter": "python",
   "pygments_lexer": "ipython3",
   "version": "3.8.8"
  }
 },
 "nbformat": 4,
 "nbformat_minor": 5
}
